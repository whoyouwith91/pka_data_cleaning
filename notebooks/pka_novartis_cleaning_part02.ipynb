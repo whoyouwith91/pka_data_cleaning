{
 "cells": [
  {
   "cell_type": "code",
   "execution_count": 1,
   "id": "6b69a079",
   "metadata": {},
   "outputs": [],
   "source": [
    "from rdkit import Chem\n",
    "import pandas as pd\n",
    "from rdkit.Chem import PandasTools\n",
    "from tqdm import tqdm\n",
    "import torch"
   ]
  },
  {
   "cell_type": "code",
   "execution_count": 2,
   "id": "77fb7346",
   "metadata": {},
   "outputs": [],
   "source": [
    "def mol_with_atom_index( mol ):\n",
    "    atoms = mol.GetNumAtoms()\n",
    "    for idx in range( atoms ):\n",
    "        mol.GetAtomWithIdx( idx ).SetProp( 'molAtomMapNumber', str( mol.GetAtomWithIdx( idx ).GetIdx() ) )\n",
    "    return mol"
   ]
  },
  {
   "cell_type": "code",
   "execution_count": 3,
   "id": "f868094d",
   "metadata": {},
   "outputs": [],
   "source": [
    "novartis_original = PandasTools.LoadSDF('../data/novartis/00_novartis_testdata.sdf')"
   ]
  },
  {
   "cell_type": "code",
   "execution_count": 4,
   "id": "7060d08a",
   "metadata": {},
   "outputs": [],
   "source": [
    "novartis_final = torch.load('../data/novartis/novartis_processed.pt')"
   ]
  },
  {
   "cell_type": "code",
   "execution_count": 5,
   "id": "dcc86b4f",
   "metadata": {},
   "outputs": [
    {
     "data": {
      "text/plain": [
       "((280, 7), (274, 12))"
      ]
     },
     "execution_count": 5,
     "metadata": {},
     "output_type": "execute_result"
    }
   ],
   "source": [
    "novartis_original.shape, novartis_final.shape"
   ]
  },
  {
   "cell_type": "code",
   "execution_count": 7,
   "id": "88edb068",
   "metadata": {},
   "outputs": [
    {
     "data": {
      "text/html": [
       "<div>\n",
       "<style scoped>\n",
       "    .dataframe tbody tr th:only-of-type {\n",
       "        vertical-align: middle;\n",
       "    }\n",
       "\n",
       "    .dataframe tbody tr th {\n",
       "        vertical-align: top;\n",
       "    }\n",
       "\n",
       "    .dataframe thead th {\n",
       "        text-align: right;\n",
       "    }\n",
       "</style>\n",
       "<table border=\"1\" class=\"dataframe\">\n",
       "  <thead>\n",
       "    <tr style=\"text-align: right;\">\n",
       "      <th></th>\n",
       "      <th>exp_id</th>\n",
       "      <th>pka</th>\n",
       "      <th>center</th>\n",
       "      <th>prot_smiles</th>\n",
       "      <th>deprot_smiles</th>\n",
       "      <th>prot_charge</th>\n",
       "      <th>deprot_charge</th>\n",
       "      <th>prot_mol</th>\n",
       "      <th>deprot_mol</th>\n",
       "      <th>acid_base_type</th>\n",
       "      <th>acid_base_check</th>\n",
       "      <th>acid_base_string</th>\n",
       "      <th>ROMol</th>\n",
       "    </tr>\n",
       "  </thead>\n",
       "  <tbody>\n",
       "    <tr>\n",
       "      <th>0</th>\n",
       "      <td>mol0</td>\n",
       "      <td>8.55</td>\n",
       "      <td>13</td>\n",
       "      <td>Brc1ccc(C2CN3C=CSC3=[NH+]2)cc1</td>\n",
       "      <td>Brc1ccc(C2CN3C=CSC3=N2)cc1</td>\n",
       "      <td>1</td>\n",
       "      <td>0</td>\n",
       "      <td>&lt;rdkit.Chem.PropertyMol.PropertyMol object at ...</td>\n",
       "      <td>&lt;rdkit.Chem.PropertyMol.PropertyMol object at ...</td>\n",
       "      <td>basic</td>\n",
       "      <td>consistent</td>\n",
       "      <td>B</td>\n",
       "      <td>&lt;rdkit.Chem.PropertyMol.PropertyMol object at ...</td>\n",
       "    </tr>\n",
       "    <tr>\n",
       "      <th>1</th>\n",
       "      <td>mol1</td>\n",
       "      <td>5.50</td>\n",
       "      <td>4</td>\n",
       "      <td>C/C(=C\\c1cc(C)cc[nH+]1)[C@@H]1C[C@@H]2O[C@]2(C...</td>\n",
       "      <td>C/C(=C\\c1cc(C)ccn1)[C@@H]1C[C@@H]2O[C@]2(C)CCC...</td>\n",
       "      <td>1</td>\n",
       "      <td>0</td>\n",
       "      <td>&lt;rdkit.Chem.PropertyMol.PropertyMol object at ...</td>\n",
       "      <td>&lt;rdkit.Chem.PropertyMol.PropertyMol object at ...</td>\n",
       "      <td>basic</td>\n",
       "      <td>consistent</td>\n",
       "      <td>B</td>\n",
       "      <td>&lt;rdkit.Chem.PropertyMol.PropertyMol object at ...</td>\n",
       "    </tr>\n",
       "    <tr>\n",
       "      <th>2</th>\n",
       "      <td>mol2</td>\n",
       "      <td>4.50</td>\n",
       "      <td>5</td>\n",
       "      <td>C/C(=C\\c1ccc(C)c[nH+]1)[C@@H]1C[C@@H]2O[C@]2(C...</td>\n",
       "      <td>C/C(=C\\c1ccc(C)cn1)[C@@H]1C[C@@H]2O[C@]2(C)CCC...</td>\n",
       "      <td>1</td>\n",
       "      <td>0</td>\n",
       "      <td>&lt;rdkit.Chem.PropertyMol.PropertyMol object at ...</td>\n",
       "      <td>&lt;rdkit.Chem.PropertyMol.PropertyMol object at ...</td>\n",
       "      <td>basic</td>\n",
       "      <td>consistent</td>\n",
       "      <td>B</td>\n",
       "      <td>&lt;rdkit.Chem.PropertyMol.PropertyMol object at ...</td>\n",
       "    </tr>\n",
       "    <tr>\n",
       "      <th>3</th>\n",
       "      <td>mol3</td>\n",
       "      <td>5.50</td>\n",
       "      <td>6</td>\n",
       "      <td>C/C(=C\\c1cccc(C)[nH+]1)[C@@H]1C[C@@H]2O[C@]2(C...</td>\n",
       "      <td>C/C(=C\\c1cccc(C)n1)[C@@H]1C[C@@H]2O[C@]2(C)CCC...</td>\n",
       "      <td>1</td>\n",
       "      <td>0</td>\n",
       "      <td>&lt;rdkit.Chem.PropertyMol.PropertyMol object at ...</td>\n",
       "      <td>&lt;rdkit.Chem.PropertyMol.PropertyMol object at ...</td>\n",
       "      <td>basic</td>\n",
       "      <td>consistent</td>\n",
       "      <td>B</td>\n",
       "      <td>&lt;rdkit.Chem.PropertyMol.PropertyMol object at ...</td>\n",
       "    </tr>\n",
       "    <tr>\n",
       "      <th>4</th>\n",
       "      <td>mol4</td>\n",
       "      <td>5.00</td>\n",
       "      <td>32</td>\n",
       "      <td>C/C(=C\\c1cccc[nH+]1)[C@@H]1C[C@@H]2O[C@]2(C)CC...</td>\n",
       "      <td>C/C(=C\\c1ccccn1)[C@@H]1C[C@@H]2O[C@]2(C)CCC[C@...</td>\n",
       "      <td>1</td>\n",
       "      <td>0</td>\n",
       "      <td>&lt;rdkit.Chem.PropertyMol.PropertyMol object at ...</td>\n",
       "      <td>&lt;rdkit.Chem.PropertyMol.PropertyMol object at ...</td>\n",
       "      <td>basic</td>\n",
       "      <td>consistent</td>\n",
       "      <td>B</td>\n",
       "      <td>&lt;rdkit.Chem.PropertyMol.PropertyMol object at ...</td>\n",
       "    </tr>\n",
       "  </tbody>\n",
       "</table>\n",
       "</div>"
      ],
      "text/plain": [
       "  exp_id   pka center                                        prot_smiles  \\\n",
       "0   mol0  8.55     13                     Brc1ccc(C2CN3C=CSC3=[NH+]2)cc1   \n",
       "1   mol1  5.50      4  C/C(=C\\c1cc(C)cc[nH+]1)[C@@H]1C[C@@H]2O[C@]2(C...   \n",
       "2   mol2  4.50      5  C/C(=C\\c1ccc(C)c[nH+]1)[C@@H]1C[C@@H]2O[C@]2(C...   \n",
       "3   mol3  5.50      6  C/C(=C\\c1cccc(C)[nH+]1)[C@@H]1C[C@@H]2O[C@]2(C...   \n",
       "4   mol4  5.00     32  C/C(=C\\c1cccc[nH+]1)[C@@H]1C[C@@H]2O[C@]2(C)CC...   \n",
       "\n",
       "                                       deprot_smiles  prot_charge  \\\n",
       "0                         Brc1ccc(C2CN3C=CSC3=N2)cc1            1   \n",
       "1  C/C(=C\\c1cc(C)ccn1)[C@@H]1C[C@@H]2O[C@]2(C)CCC...            1   \n",
       "2  C/C(=C\\c1ccc(C)cn1)[C@@H]1C[C@@H]2O[C@]2(C)CCC...            1   \n",
       "3  C/C(=C\\c1cccc(C)n1)[C@@H]1C[C@@H]2O[C@]2(C)CCC...            1   \n",
       "4  C/C(=C\\c1ccccn1)[C@@H]1C[C@@H]2O[C@]2(C)CCC[C@...            1   \n",
       "\n",
       "   deprot_charge                                           prot_mol  \\\n",
       "0              0  <rdkit.Chem.PropertyMol.PropertyMol object at ...   \n",
       "1              0  <rdkit.Chem.PropertyMol.PropertyMol object at ...   \n",
       "2              0  <rdkit.Chem.PropertyMol.PropertyMol object at ...   \n",
       "3              0  <rdkit.Chem.PropertyMol.PropertyMol object at ...   \n",
       "4              0  <rdkit.Chem.PropertyMol.PropertyMol object at ...   \n",
       "\n",
       "                                          deprot_mol acid_base_type  \\\n",
       "0  <rdkit.Chem.PropertyMol.PropertyMol object at ...          basic   \n",
       "1  <rdkit.Chem.PropertyMol.PropertyMol object at ...          basic   \n",
       "2  <rdkit.Chem.PropertyMol.PropertyMol object at ...          basic   \n",
       "3  <rdkit.Chem.PropertyMol.PropertyMol object at ...          basic   \n",
       "4  <rdkit.Chem.PropertyMol.PropertyMol object at ...          basic   \n",
       "\n",
       "  acid_base_check acid_base_string  \\\n",
       "0      consistent                B   \n",
       "1      consistent                B   \n",
       "2      consistent                B   \n",
       "3      consistent                B   \n",
       "4      consistent                B   \n",
       "\n",
       "                                               ROMol  \n",
       "0  <rdkit.Chem.PropertyMol.PropertyMol object at ...  \n",
       "1  <rdkit.Chem.PropertyMol.PropertyMol object at ...  \n",
       "2  <rdkit.Chem.PropertyMol.PropertyMol object at ...  \n",
       "3  <rdkit.Chem.PropertyMol.PropertyMol object at ...  \n",
       "4  <rdkit.Chem.PropertyMol.PropertyMol object at ...  "
      ]
     },
     "execution_count": 7,
     "metadata": {},
     "output_type": "execute_result"
    }
   ],
   "source": [
    "novartis_final.head()"
   ]
  },
  {
   "cell_type": "code",
   "execution_count": 6,
   "id": "dba7090b",
   "metadata": {},
   "outputs": [],
   "source": [
    "use_id = [int(i.split('mol')[1]) for i in novartis_final['exp_id']]\n",
    "\n",
    "not_use_id = list(set(range(novartis_original.shape[0])) - set(use_id))"
   ]
  },
  {
   "cell_type": "code",
   "execution_count": 7,
   "id": "dd546cea",
   "metadata": {},
   "outputs": [
    {
     "data": {
      "text/plain": [
       "6"
      ]
     },
     "execution_count": 7,
     "metadata": {},
     "output_type": "execute_result"
    }
   ],
   "source": [
    "len(not_use_id)"
   ]
  },
  {
   "cell_type": "code",
   "execution_count": 8,
   "id": "73997c8a",
   "metadata": {},
   "outputs": [],
   "source": [
    "exp_makeup = novartis_original.loc[not_use_id, :]"
   ]
  },
  {
   "cell_type": "code",
   "execution_count": 9,
   "id": "6104f502",
   "metadata": {},
   "outputs": [
    {
     "name": "stdout",
     "output_type": "stream",
     "text": [
      "here\n",
      "here\n",
      "here\n",
      "here\n"
     ]
    }
   ],
   "source": [
    "prot_mols = []\n",
    "deprot_mols = []\n",
    "for idx, pka_type, mol, center in zip(exp_makeup.index, exp_makeup['marvin_pKa_type'], exp_makeup['ROMol'], exp_makeup['marvin_atom']):\n",
    "    mol_changed = Chem.RWMol(mol)\n",
    "    atom = mol_changed.GetAtomWithIdx(int(center))\n",
    "    charge = atom.GetFormalCharge()\n",
    "    Ex_Hs = atom.GetNumExplicitHs()\n",
    "    Tot_Hs = atom.GetTotalNumHs()\n",
    "   \n",
    "    if pka_type == 'basic':\n",
    "        if charge == 0:\n",
    "            print('here')\n",
    "            deprot_mols.append(mol)\n",
    "            atom.SetFormalCharge(charge + 1)\n",
    "            atom.SetNumExplicitHs(Ex_Hs + 1)\n",
    "            prot_mols.append(mol_changed)\n",
    "            \n",
    "        elif charge == 1:\n",
    "            prot_mols.append(mol)\n",
    "            atom.SetFormalCharge(charge - 1)\n",
    "            atom.SetNumExplicitHs(Ex_Hs - 1)\n",
    "            deprot_mols.append(mol_changed)\n",
    "    \n",
    "    \n",
    "    if pka_type == 'acidic':\n",
    "        if charge == 0:\n",
    "            prot_mols.append(mol)\n",
    "            atom.SetFormalCharge(charge - 1)\n",
    "            atom.SetNumExplicitHs(Ex_Hs - 1)\n",
    "            deprot_mols.append(mol_changed)\n",
    "        elif charge == -1:\n",
    "            deprot_mols.append(mol)\n",
    "            atom.SetFormalCharge(charge + 1)\n",
    "            atom.SetNumExplicitHs(Ex_Hs + 1)\n",
    "            prot_mols.append(mol_changed)\n",
    "    atom.UpdatePropertyCache()\n",
    "    #break\n",
    "            "
   ]
  },
  {
   "cell_type": "code",
   "execution_count": 10,
   "id": "93a17f72",
   "metadata": {},
   "outputs": [],
   "source": [
    "exp_makeup['prot_mol'] = prot_mols\n",
    "exp_makeup['deprot_mol'] = deprot_mols\n"
   ]
  },
  {
   "cell_type": "code",
   "execution_count": 11,
   "id": "614dfd66",
   "metadata": {},
   "outputs": [],
   "source": [
    "from rdkit.Chem.MolStandardize import rdMolStandardize\n",
    "un = rdMolStandardize.Uncharger()\n",
    "\n",
    "from collections import defaultdict\n",
    "\n",
    "from molvs import standardize_smiles"
   ]
  },
  {
   "cell_type": "code",
   "execution_count": 13,
   "id": "11b897fd",
   "metadata": {},
   "outputs": [
    {
     "name": "stderr",
     "output_type": "stream",
     "text": [
      "[18:46:29] Running Uncharger\n",
      "[18:46:29] Running Uncharger\n",
      "[18:46:29] Running Uncharger\n",
      "[18:46:29] Running Uncharger\n",
      "[18:46:29] Running Uncharger\n",
      "[18:46:29] Running Uncharger\n"
     ]
    }
   ],
   "source": [
    "acid_base_smarts = pd.read_csv('../data/pka_smarts/smarts_pattern.tsv', delimiter='\\t')\n",
    "\n",
    "mol_acid_base = defaultdict(list)\n",
    "for idx, center, prot_mol, deprot_mol in zip(exp_makeup.index, exp_makeup['marvin_atom'], exp_makeup['prot_mol'], exp_makeup['deprot_mol']):\n",
    "    #p = Chem.MolFromSmiles(standardize_smiles(Chem.MolToSmiles(mol_with_atom_index(deprot_mol))))\n",
    "    #mol = Chem.MolFromSmiles(smi)\n",
    "    #p = deprot_mol\n",
    "    prot_mol = un.uncharge(prot_mol)\n",
    "    #mol = Chem.MolFromSmiles(Chem.MolToSmiles(mol_with_atom_index(mol)))\n",
    "    mol = Chem.AddHs(prot_mol)\n",
    "    for smart, a in zip(acid_base_smarts['    SMARTS'], acid_base_smarts['Acid_or_base']):\n",
    "        if mol.HasSubstructMatch(Chem.MolFromSmarts(smart)):\n",
    "            matches = sum(mol.GetSubstructMatches(Chem.MolFromSmarts(smart)), ())\n",
    "            #print(smart, matches)\n",
    "            center = int(center)\n",
    "            if center in matches:\n",
    "                #print('here')\n",
    "                if deprot_mol.GetAtomWithIdx(center).GetFormalCharge() == -1: \n",
    "                    if a == 'A':\n",
    "                        mol_acid_base[idx].append([smart, a])\n",
    "                        break\n",
    "                elif deprot_mol.GetAtomWithIdx(center).GetFormalCharge() == 0:\n",
    "                    if a == 'B':\n",
    "                        mol_acid_base[idx].append([smart, a])\n",
    "                        break\n",
    "                        "
   ]
  },
  {
   "cell_type": "code",
   "execution_count": 14,
   "id": "91031d3c",
   "metadata": {},
   "outputs": [
    {
     "data": {
      "text/plain": [
       "6"
      ]
     },
     "execution_count": 14,
     "metadata": {},
     "output_type": "execute_result"
    }
   ],
   "source": [
    "len(mol_acid_base)"
   ]
  },
  {
   "cell_type": "code",
   "execution_count": 15,
   "id": "285b361e",
   "metadata": {},
   "outputs": [],
   "source": [
    "c = 0 \n",
    "use_i = []\n",
    "for i in list(mol_acid_base.keys()):\n",
    "    if exp_makeup.loc[i, 'marvin_pKa_type'] == 'acidic' and mol_acid_base[i][0][1] == 'A':\n",
    "        c += 1\n",
    "        use_i.append(i)\n",
    "    elif exp_makeup.loc[i, 'marvin_pKa_type'] == 'basic' and mol_acid_base[i][0][1] == 'B':\n",
    "        c += 1\n",
    "        use_i.append(i)\n",
    "        "
   ]
  },
  {
   "cell_type": "code",
   "execution_count": 16,
   "id": "06863247",
   "metadata": {},
   "outputs": [
    {
     "data": {
      "text/plain": [
       "6"
      ]
     },
     "execution_count": 16,
     "metadata": {},
     "output_type": "execute_result"
    }
   ],
   "source": [
    "c"
   ]
  },
  {
   "cell_type": "code",
   "execution_count": 17,
   "id": "ebf9059b",
   "metadata": {},
   "outputs": [],
   "source": [
    "exp_makeup['acid_base_string'] = str"
   ]
  },
  {
   "cell_type": "code",
   "execution_count": 18,
   "id": "177a7c38",
   "metadata": {},
   "outputs": [],
   "source": [
    "exp_makeup.loc[list(mol_acid_base.keys()), 'acid_base_string'] = [i[0][1] for i in list(mol_acid_base.values())]"
   ]
  },
  {
   "cell_type": "code",
   "execution_count": 19,
   "id": "b6d953cd",
   "metadata": {},
   "outputs": [],
   "source": [
    "ROMol = []\n",
    "#acid_base_num = []\n",
    "for i in exp_makeup.index:\n",
    "    acid_base = exp_makeup.loc[i, 'acid_base_string']\n",
    "    #acid_base_string.append(acid_base)\n",
    "    if acid_base == 'A':\n",
    "        ROMol.append(exp_makeup.loc[i, 'prot_mol'])\n",
    "    elif acid_base == 'B':\n",
    "        ROMol.append(exp_makeup.loc[i, 'deprot_mol'])"
   ]
  },
  {
   "cell_type": "code",
   "execution_count": 20,
   "id": "dd978621",
   "metadata": {},
   "outputs": [],
   "source": [
    "exp_makeup['ROMol_rev'] = ROMol"
   ]
  },
  {
   "cell_type": "code",
   "execution_count": 21,
   "id": "33e9187e",
   "metadata": {},
   "outputs": [],
   "source": [
    "exp_makeup['exp_id'] = [f'mol{i}' for i in exp_makeup.index]"
   ]
  },
  {
   "cell_type": "code",
   "execution_count": 22,
   "id": "10b961dd",
   "metadata": {},
   "outputs": [],
   "source": [
    "from rdkit.Chem.Descriptors import ExactMolWt, HeavyAtomCount, NumHAcceptors, NumHDonors, MolLogP, NumRotatableBonds"
   ]
  },
  {
   "cell_type": "code",
   "execution_count": 23,
   "id": "774e80f2",
   "metadata": {},
   "outputs": [
    {
     "name": "stderr",
     "output_type": "stream",
     "text": [
      "100%|██████████| 6/6 [00:00<00:00, 1413.10it/s]\n"
     ]
    }
   ],
   "source": [
    "mw, hac, nhd, nha, logp, nrb = [], [], [], [], [], []\n",
    "for mol in tqdm(exp_makeup['ROMol']):\n",
    "    mw.append(ExactMolWt(mol))\n",
    "    hac.append(HeavyAtomCount(mol))\n",
    "    nhd.append(NumHDonors(mol))\n",
    "    nha.append(NumHAcceptors(mol))\n",
    "    logp.append(MolLogP(mol))\n",
    "    nrb.append(NumRotatableBonds(mol))"
   ]
  },
  {
   "cell_type": "code",
   "execution_count": 24,
   "id": "140e8a27",
   "metadata": {},
   "outputs": [],
   "source": [
    "for i,j in zip(['MolWt', 'HeavyAtomCount', 'NumHDonors', 'NumHAcceptors', 'MolLogP', 'NumRotatableBonds'], [mw, hac, nhd, nha, logp, nrb]):\n",
    "    exp_makeup[i] = j"
   ]
  },
  {
   "cell_type": "code",
   "execution_count": 26,
   "id": "3508fa73",
   "metadata": {},
   "outputs": [],
   "source": [
    "exp_makeup_rev = exp_makeup[['exp_id', 'pKa', 'marvin_atom', 'prot_mol', 'deprot_mol', 'marvin_pKa_type',  'acid_base_string', 'ROMol_rev', 'MolWt', 'HeavyAtomCount', 'NumHDonors', 'NumHAcceptors', 'MolLogP',\n",
    "       'NumRotatableBonds']]"
   ]
  },
  {
   "cell_type": "code",
   "execution_count": 27,
   "id": "28a61d27",
   "metadata": {},
   "outputs": [
    {
     "name": "stderr",
     "output_type": "stream",
     "text": [
      "/var/folders/g1/dnxcdjsj13x3_tgbr4r_x0l80000gn/T/ipykernel_16136/2226839296.py:1: SettingWithCopyWarning: \n",
      "A value is trying to be set on a copy of a slice from a DataFrame\n",
      "\n",
      "See the caveats in the documentation: https://pandas.pydata.org/pandas-docs/stable/user_guide/indexing.html#returning-a-view-versus-a-copy\n",
      "  exp_makeup_rev.rename(columns={'pKa': 'pka', 'marvin_atom': 'center', 'marvin_pKa_type': 'acid_base_type', 'ROMol_rev': 'ROMol'}, inplace=True)\n"
     ]
    }
   ],
   "source": [
    "exp_makeup_rev.rename(columns={'pKa': 'pka', 'marvin_atom': 'center', 'marvin_pKa_type': 'acid_base_type', 'ROMol_rev': 'ROMol'}, inplace=True)"
   ]
  },
  {
   "cell_type": "code",
   "execution_count": 28,
   "id": "cf5a615d",
   "metadata": {},
   "outputs": [],
   "source": [
    "from rdkit.Chem.rdmolops import GetFormalCharge"
   ]
  },
  {
   "cell_type": "code",
   "execution_count": 29,
   "id": "9706b0f7",
   "metadata": {},
   "outputs": [
    {
     "name": "stderr",
     "output_type": "stream",
     "text": [
      "/var/folders/g1/dnxcdjsj13x3_tgbr4r_x0l80000gn/T/ipykernel_16136/2844833528.py:1: SettingWithCopyWarning: \n",
      "A value is trying to be set on a copy of a slice from a DataFrame.\n",
      "Try using .loc[row_indexer,col_indexer] = value instead\n",
      "\n",
      "See the caveats in the documentation: https://pandas.pydata.org/pandas-docs/stable/user_guide/indexing.html#returning-a-view-versus-a-copy\n",
      "  exp_makeup_rev['prot_charge'] = exp_makeup_rev['prot_mol'].apply(lambda x: GetFormalCharge(x))\n",
      "/var/folders/g1/dnxcdjsj13x3_tgbr4r_x0l80000gn/T/ipykernel_16136/2844833528.py:3: SettingWithCopyWarning: \n",
      "A value is trying to be set on a copy of a slice from a DataFrame.\n",
      "Try using .loc[row_indexer,col_indexer] = value instead\n",
      "\n",
      "See the caveats in the documentation: https://pandas.pydata.org/pandas-docs/stable/user_guide/indexing.html#returning-a-view-versus-a-copy\n",
      "  exp_makeup_rev['deprot_charge'] = exp_makeup_rev['deprot_mol'].apply(lambda x: GetFormalCharge(x))\n"
     ]
    }
   ],
   "source": [
    "exp_makeup_rev['prot_charge'] = exp_makeup_rev['prot_mol'].apply(lambda x: GetFormalCharge(x))\n",
    "\n",
    "exp_makeup_rev['deprot_charge'] = exp_makeup_rev['deprot_mol'].apply(lambda x: GetFormalCharge(x))"
   ]
  },
  {
   "cell_type": "code",
   "execution_count": 30,
   "id": "28f15d3a",
   "metadata": {},
   "outputs": [
    {
     "data": {
      "text/plain": [
       "6"
      ]
     },
     "execution_count": 30,
     "metadata": {},
     "output_type": "execute_result"
    }
   ],
   "source": [
    "sum(exp_makeup_rev['prot_charge'] > exp_makeup_rev['deprot_charge'])"
   ]
  },
  {
   "cell_type": "code",
   "execution_count": 31,
   "id": "40db77d3",
   "metadata": {},
   "outputs": [
    {
     "name": "stderr",
     "output_type": "stream",
     "text": [
      "/var/folders/g1/dnxcdjsj13x3_tgbr4r_x0l80000gn/T/ipykernel_16136/1583308714.py:1: SettingWithCopyWarning: \n",
      "A value is trying to be set on a copy of a slice from a DataFrame.\n",
      "Try using .loc[row_indexer,col_indexer] = value instead\n",
      "\n",
      "See the caveats in the documentation: https://pandas.pydata.org/pandas-docs/stable/user_guide/indexing.html#returning-a-view-versus-a-copy\n",
      "  exp_makeup_rev['prot_smiles'] = exp_makeup_rev['prot_mol'].apply(lambda x: Chem.MolToSmiles(x))\n"
     ]
    }
   ],
   "source": [
    "exp_makeup_rev['prot_smiles'] = exp_makeup_rev['prot_mol'].apply(lambda x: Chem.MolToSmiles(x))\n",
    "\n",
    "exp_makeup_rev['deprot_smiles'] = exp_makeup_rev['deprot_mol'].apply(lambda x: Chem.MolToSmiles(x))"
   ]
  },
  {
   "cell_type": "code",
   "execution_count": 32,
   "id": "03dce9b5",
   "metadata": {},
   "outputs": [],
   "source": [
    "exp_all = pd.concat([novartis_final, exp_makeup_rev[novartis_final.columns]])"
   ]
  },
  {
   "cell_type": "code",
   "execution_count": 33,
   "id": "0d5116e0",
   "metadata": {},
   "outputs": [
    {
     "data": {
      "text/plain": [
       "(280, 12)"
      ]
     },
     "execution_count": 33,
     "metadata": {},
     "output_type": "execute_result"
    }
   ],
   "source": [
    "exp_all.shape"
   ]
  },
  {
   "cell_type": "code",
   "execution_count": 35,
   "id": "4f159f88",
   "metadata": {},
   "outputs": [],
   "source": [
    "c = 0 \n",
    "smi = []\n",
    "for mol in exp_all['ROMol']:\n",
    "    try:\n",
    "        smi.append(mol.GetProp('mol-smiles'))\n",
    "    except:\n",
    "        c += 1\n",
    "        smi.append(Chem.MolToSmiles(Chem.MolFromInchi(Chem.MolToInchi(mol))))\n",
    "        \n",
    "#exp_all['SMILES'] = exp_all['ROMol'].apply(lambda x:Chem.MolToSmiles(Chem.MolFromInchi(Chem.MolToInchi(x))))"
   ]
  },
  {
   "cell_type": "code",
   "execution_count": 36,
   "id": "b014ccdd",
   "metadata": {},
   "outputs": [
    {
     "data": {
      "text/plain": [
       "6"
      ]
     },
     "execution_count": 36,
     "metadata": {},
     "output_type": "execute_result"
    }
   ],
   "source": [
    "c"
   ]
  },
  {
   "cell_type": "code",
   "execution_count": 37,
   "id": "30a06ffb",
   "metadata": {},
   "outputs": [
    {
     "data": {
      "text/plain": [
       "280"
      ]
     },
     "execution_count": 37,
     "metadata": {},
     "output_type": "execute_result"
    }
   ],
   "source": [
    "len(smi)"
   ]
  },
  {
   "cell_type": "code",
   "execution_count": 38,
   "id": "a0429800",
   "metadata": {
    "scrolled": true
   },
   "outputs": [],
   "source": [
    "exp_all['SMILES'] = smi"
   ]
  },
  {
   "cell_type": "code",
   "execution_count": 39,
   "id": "5bf802e3",
   "metadata": {},
   "outputs": [
    {
     "data": {
      "text/plain": [
       "280"
      ]
     },
     "execution_count": 39,
     "metadata": {},
     "output_type": "execute_result"
    }
   ],
   "source": [
    "len(set(exp_all['SMILES']))"
   ]
  },
  {
   "cell_type": "code",
   "execution_count": 40,
   "id": "f76c1201",
   "metadata": {},
   "outputs": [],
   "source": [
    "from rdkit.Chem.Descriptors import ExactMolWt, HeavyAtomCount, NumHAcceptors, NumHDonors, MolLogP, NumRotatableBonds"
   ]
  },
  {
   "cell_type": "code",
   "execution_count": 41,
   "id": "4e148c54",
   "metadata": {},
   "outputs": [
    {
     "name": "stderr",
     "output_type": "stream",
     "text": [
      "100%|██████████| 280/280 [00:00<00:00, 2380.81it/s]\n"
     ]
    }
   ],
   "source": [
    "mw, hac, nhd, nha, logp, nrb = [], [], [], [], [], []\n",
    "for mol in tqdm(exp_all['ROMol']):\n",
    "    mw.append(ExactMolWt(mol))\n",
    "    hac.append(HeavyAtomCount(mol))\n",
    "    nhd.append(NumHDonors(mol))\n",
    "    nha.append(NumHAcceptors(mol))\n",
    "    logp.append(MolLogP(mol))\n",
    "    nrb.append(NumRotatableBonds(mol))"
   ]
  },
  {
   "cell_type": "code",
   "execution_count": 42,
   "id": "a910ff08",
   "metadata": {},
   "outputs": [],
   "source": [
    "for i,j in zip(['MolWt', 'HeavyAtomCount', 'NumHDonors', 'NumHAcceptors', 'MolLogP', 'NumRotatableBonds'], [mw, hac, nhd, nha, logp, nrb]):\n",
    "    exp_all[i] = j"
   ]
  },
  {
   "cell_type": "code",
   "execution_count": 44,
   "id": "0dac85e5",
   "metadata": {},
   "outputs": [],
   "source": [
    "exp_all['id'] = exp_all['exp_id'].apply(lambda x: int(x.split('mol')[1]))"
   ]
  },
  {
   "cell_type": "code",
   "execution_count": 45,
   "id": "dc029682",
   "metadata": {},
   "outputs": [],
   "source": [
    "exp_all = exp_all.sort_values('id')[['exp_id', 'pka', 'center', 'prot_smiles', 'deprot_smiles',\n",
    "       'prot_charge', 'deprot_charge', 'prot_mol', 'deprot_mol',\n",
    "       'acid_base_type', 'acid_base_string', 'ROMol',\n",
    "       'MolWt', 'HeavyAtomCount', 'NumHDonors', 'NumHAcceptors', 'MolLogP',\n",
    "       'NumRotatableBonds', 'SMILES']]"
   ]
  },
  {
   "cell_type": "code",
   "execution_count": 46,
   "id": "8d758d7b",
   "metadata": {},
   "outputs": [],
   "source": [
    "exp_all = exp_all.reset_index(drop=True)"
   ]
  },
  {
   "cell_type": "code",
   "execution_count": 47,
   "id": "0b8f77c7",
   "metadata": {},
   "outputs": [],
   "source": [
    "torch.save(exp_all, '../data/novartis/novartis_processed_all.pt')"
   ]
  },
  {
   "cell_type": "code",
   "execution_count": null,
   "id": "bc1fae3d",
   "metadata": {},
   "outputs": [],
   "source": []
  }
 ],
 "metadata": {
  "kernelspec": {
   "display_name": "Python 3 (ipykernel)",
   "language": "python",
   "name": "python3"
  },
  "language_info": {
   "codemirror_mode": {
    "name": "ipython",
    "version": 3
   },
   "file_extension": ".py",
   "mimetype": "text/x-python",
   "name": "python",
   "nbconvert_exporter": "python",
   "pygments_lexer": "ipython3",
   "version": "3.9.16"
  }
 },
 "nbformat": 4,
 "nbformat_minor": 5
}
