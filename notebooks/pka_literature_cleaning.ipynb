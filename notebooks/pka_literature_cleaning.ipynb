{
 "cells": [
  {
   "cell_type": "code",
   "execution_count": 1,
   "id": "951c75cf",
   "metadata": {},
   "outputs": [],
   "source": [
    "from rdkit import Chem\n",
    "import pandas as pd\n",
    "from rdkit.Chem import PandasTools\n",
    "import pickle \n",
    "from tqdm import tqdm\n",
    "import torch"
   ]
  },
  {
   "cell_type": "code",
   "execution_count": 2,
   "id": "325375ce",
   "metadata": {},
   "outputs": [],
   "source": [
    "def mol_with_atom_index( mol ):\n",
    "    atoms = mol.GetNumAtoms()\n",
    "    for idx in range( atoms ):\n",
    "        mol.GetAtomWithIdx( idx ).SetProp( 'molAtomMapNumber', str( mol.GetAtomWithIdx( idx ).GetIdx() ) )\n",
    "    return mol"
   ]
  },
  {
   "cell_type": "code",
   "execution_count": 3,
   "id": "6c598bde",
   "metadata": {},
   "outputs": [],
   "source": [
    "lit_original = PandasTools.LoadSDF('../data/liter/00_AvLiLuMoVe_testdata.sdf')"
   ]
  },
  {
   "cell_type": "code",
   "execution_count": 4,
   "id": "24fdcab1",
   "metadata": {},
   "outputs": [
    {
     "data": {
      "text/plain": [
       "123"
      ]
     },
     "execution_count": 4,
     "metadata": {},
     "output_type": "execute_result"
    }
   ],
   "source": [
    "len(lit_original)"
   ]
  },
  {
   "cell_type": "code",
   "execution_count": 5,
   "id": "566d19d9",
   "metadata": {},
   "outputs": [
    {
     "data": {
      "text/html": [
       "<div>\n",
       "<style scoped>\n",
       "    .dataframe tbody tr th:only-of-type {\n",
       "        vertical-align: middle;\n",
       "    }\n",
       "\n",
       "    .dataframe tbody tr th {\n",
       "        vertical-align: top;\n",
       "    }\n",
       "\n",
       "    .dataframe thead th {\n",
       "        text-align: right;\n",
       "    }\n",
       "</style>\n",
       "<table border=\"1\" class=\"dataframe\">\n",
       "  <thead>\n",
       "    <tr style=\"text-align: right;\">\n",
       "      <th></th>\n",
       "      <th>pKa</th>\n",
       "      <th>marvin_pKa</th>\n",
       "      <th>marvin_atom</th>\n",
       "      <th>marvin_pKa_type</th>\n",
       "      <th>ISO_SMI</th>\n",
       "      <th>ID</th>\n",
       "      <th>ROMol</th>\n",
       "    </tr>\n",
       "  </thead>\n",
       "  <tbody>\n",
       "    <tr>\n",
       "      <th>0</th>\n",
       "      <td>7.42</td>\n",
       "      <td>8.6</td>\n",
       "      <td>10</td>\n",
       "      <td>basic</td>\n",
       "      <td>C#CC[NH+](C)[C@H](C)Cc1ccc(F)cc1</td>\n",
       "      <td>353</td>\n",
       "      <td>&lt;rdkit.Chem.rdchem.Mol object at 0x16a8db200&gt;</td>\n",
       "    </tr>\n",
       "    <tr>\n",
       "      <th>1</th>\n",
       "      <td>9.5</td>\n",
       "      <td>9.86</td>\n",
       "      <td>9</td>\n",
       "      <td>basic</td>\n",
       "      <td>CC(=O)CC1CCCC[NH2+]1</td>\n",
       "      <td>181</td>\n",
       "      <td>&lt;rdkit.Chem.rdchem.Mol object at 0x16a8db350&gt;</td>\n",
       "    </tr>\n",
       "    <tr>\n",
       "      <th>2</th>\n",
       "      <td>9.1</td>\n",
       "      <td>9.05</td>\n",
       "      <td>6</td>\n",
       "      <td>basic</td>\n",
       "      <td>CC(=O)CCC[NH+](C)C</td>\n",
       "      <td>177</td>\n",
       "      <td>&lt;rdkit.Chem.rdchem.Mol object at 0x16a8db2e0&gt;</td>\n",
       "    </tr>\n",
       "    <tr>\n",
       "      <th>3</th>\n",
       "      <td>3.6</td>\n",
       "      <td>4.09</td>\n",
       "      <td>8</td>\n",
       "      <td>acidic</td>\n",
       "      <td>CC(=O)OC(CC(=O)[O-])C[N+](C)(C)C</td>\n",
       "      <td>587</td>\n",
       "      <td>&lt;rdkit.Chem.rdchem.Mol object at 0x16a8db3c0&gt;</td>\n",
       "    </tr>\n",
       "    <tr>\n",
       "      <th>4</th>\n",
       "      <td>9.4</td>\n",
       "      <td>9.78</td>\n",
       "      <td>8</td>\n",
       "      <td>basic</td>\n",
       "      <td>CC(=O)OCCCC[NH+](C)C</td>\n",
       "      <td>190</td>\n",
       "      <td>&lt;rdkit.Chem.rdchem.Mol object at 0x16a8db430&gt;</td>\n",
       "    </tr>\n",
       "  </tbody>\n",
       "</table>\n",
       "</div>"
      ],
      "text/plain": [
       "    pKa marvin_pKa marvin_atom marvin_pKa_type  \\\n",
       "0  7.42        8.6          10           basic   \n",
       "1   9.5       9.86           9           basic   \n",
       "2   9.1       9.05           6           basic   \n",
       "3   3.6       4.09           8          acidic   \n",
       "4   9.4       9.78           8           basic   \n",
       "\n",
       "                            ISO_SMI   ID  \\\n",
       "0  C#CC[NH+](C)[C@H](C)Cc1ccc(F)cc1  353   \n",
       "1              CC(=O)CC1CCCC[NH2+]1  181   \n",
       "2                CC(=O)CCC[NH+](C)C  177   \n",
       "3  CC(=O)OC(CC(=O)[O-])C[N+](C)(C)C  587   \n",
       "4              CC(=O)OCCCC[NH+](C)C  190   \n",
       "\n",
       "                                           ROMol  \n",
       "0  <rdkit.Chem.rdchem.Mol object at 0x16a8db200>  \n",
       "1  <rdkit.Chem.rdchem.Mol object at 0x16a8db350>  \n",
       "2  <rdkit.Chem.rdchem.Mol object at 0x16a8db2e0>  \n",
       "3  <rdkit.Chem.rdchem.Mol object at 0x16a8db3c0>  \n",
       "4  <rdkit.Chem.rdchem.Mol object at 0x16a8db430>  "
      ]
     },
     "execution_count": 5,
     "metadata": {},
     "output_type": "execute_result"
    }
   ],
   "source": [
    "lit_original.head()"
   ]
  },
  {
   "cell_type": "code",
   "execution_count": 6,
   "id": "43725de5",
   "metadata": {},
   "outputs": [],
   "source": [
    "with open('../data/liter/04_AvLiLuMoVe_testdata_mols.pkl', 'rb') as f:\n",
    "    raw_lit = pickle.load(f)"
   ]
  },
  {
   "cell_type": "code",
   "execution_count": 7,
   "id": "0ba5d6df",
   "metadata": {},
   "outputs": [
    {
     "data": {
      "text/plain": [
       "123"
      ]
     },
     "execution_count": 7,
     "metadata": {},
     "output_type": "execute_result"
    }
   ],
   "source": [
    "len(raw_lit)"
   ]
  },
  {
   "cell_type": "code",
   "execution_count": 8,
   "id": "1ca17dc0",
   "metadata": {},
   "outputs": [],
   "source": [
    "with open('../data/liter/05_AvLiLuMoVe_testdata_pyg_data.pkl', 'rb') as f:\n",
    "    lit = pickle.load(f)"
   ]
  },
  {
   "cell_type": "code",
   "execution_count": 9,
   "id": "67108890",
   "metadata": {},
   "outputs": [
    {
     "data": {
      "text/plain": [
       "123"
      ]
     },
     "execution_count": 9,
     "metadata": {},
     "output_type": "execute_result"
    }
   ],
   "source": [
    "len(lit)"
   ]
  },
  {
   "cell_type": "code",
   "execution_count": 10,
   "id": "e2ae8d42",
   "metadata": {},
   "outputs": [
    {
     "name": "stderr",
     "output_type": "stream",
     "text": [
      "100%|██████████| 123/123 [00:00<00:00, 13545.29it/s]\n"
     ]
    }
   ],
   "source": [
    "prot_smiles = []\n",
    "deprot_smiles = []\n",
    "prot_charges = []\n",
    "deprot_charges = []\n",
    "pka = []\n",
    "chembl_ids = []\n",
    "centers = []\n",
    "\n",
    "for data in tqdm(lit):\n",
    "    prot_smiles.append(data.smiles_prop)\n",
    "    deprot_smiles.append(data.smiles_deprop)\n",
    "    prot_charges.append(data.charge_prot)\n",
    "    deprot_charges.append(data.charge_deprot)\n",
    "    pka.append(data.reference_value.item())\n",
    "    chembl_ids.append(data.chembl_id)\n",
    "    centers.append(data.reaction_center)\n"
   ]
  },
  {
   "cell_type": "code",
   "execution_count": 61,
   "id": "471acca1",
   "metadata": {},
   "outputs": [],
   "source": [
    "exp_df = pd.DataFrame({'exp_id': chembl_ids,\n",
    "                          'pka': pka,\n",
    "                          'center': centers,\n",
    "                          'prot_smiles': prot_smiles,\n",
    "                          'deprot_smiles': deprot_smiles,\n",
    "                          'prot_charge': prot_charges,\n",
    "                          'deprot_charge': deprot_charges})"
   ]
  },
  {
   "cell_type": "code",
   "execution_count": 62,
   "id": "d5e4af23",
   "metadata": {},
   "outputs": [
    {
     "name": "stderr",
     "output_type": "stream",
     "text": [
      "100%|██████████| 123/123 [00:00<00:00, 130047.74it/s]\n"
     ]
    }
   ],
   "source": [
    "unstack_mols = []\n",
    "seen = set()\n",
    "c = 0\n",
    "p = []\n",
    "for id_ in tqdm(exp_df['exp_id']):\n",
    "    if id_ not in seen:\n",
    "        seen.add(id_)\n",
    "        mols = raw_lit[id_]['mols']\n",
    "        c += len(mols)\n",
    "        for mol in mols:\n",
    "            unstack_mols.append([mol[0], mol[1]])\n",
    "            p.append(mol[0].GetProp('pKa_number'))"
   ]
  },
  {
   "cell_type": "code",
   "execution_count": 63,
   "id": "94650ea1",
   "metadata": {},
   "outputs": [],
   "source": [
    "exp_df['prot_mol'] = [mol_with_atom_index(i[0]) for i in unstack_mols]\n",
    "exp_df['deprot_mol'] = [mol_with_atom_index(i[1]) for i in unstack_mols]"
   ]
  },
  {
   "cell_type": "code",
   "execution_count": 64,
   "id": "31be64a7",
   "metadata": {},
   "outputs": [],
   "source": [
    "charge_idx = []\n",
    "for idx, prot_charge, deprot_charge in zip(exp_df.index, exp_df['prot_charge'], exp_df['deprot_charge']):\n",
    "    \n",
    "    if prot_charge > deprot_charge:\n",
    "        continue \n",
    "    charge_idx.append(idx)"
   ]
  },
  {
   "cell_type": "code",
   "execution_count": 65,
   "id": "4d9194e5",
   "metadata": {},
   "outputs": [
    {
     "data": {
      "text/plain": [
       "0"
      ]
     },
     "execution_count": 65,
     "metadata": {},
     "output_type": "execute_result"
    }
   ],
   "source": [
    "len(charge_idx)"
   ]
  },
  {
   "cell_type": "code",
   "execution_count": 66,
   "id": "bd7506b6",
   "metadata": {},
   "outputs": [],
   "source": [
    "from rdkit.Chem.rdmolops import GetFormalCharge\n",
    "mol_idx = []\n",
    "for idx, prot_mol, deprot_mol in zip(exp_df.index, exp_df['prot_mol'], exp_df['deprot_mol']):\n",
    "    \n",
    "    if GetFormalCharge(prot_mol) > GetFormalCharge(deprot_mol):\n",
    "        continue \n",
    "    mol_idx.append(idx)"
   ]
  },
  {
   "cell_type": "code",
   "execution_count": 67,
   "id": "236a02ee",
   "metadata": {},
   "outputs": [
    {
     "data": {
      "text/plain": [
       "7"
      ]
     },
     "execution_count": 67,
     "metadata": {},
     "output_type": "execute_result"
    }
   ],
   "source": [
    "len(mol_idx)"
   ]
  },
  {
   "cell_type": "code",
   "execution_count": 68,
   "id": "1a73d132",
   "metadata": {},
   "outputs": [],
   "source": [
    "exp_df.loc[mol_idx, ['prot_mol', 'deprot_mol']] = exp_df.loc[mol_idx, ['deprot_mol', 'prot_mol']].values"
   ]
  },
  {
   "cell_type": "code",
   "execution_count": 69,
   "id": "808e4268",
   "metadata": {},
   "outputs": [],
   "source": [
    "from rdkit.Chem.rdmolops import GetFormalCharge\n",
    "mol_idx = []\n",
    "for idx, prot_mol, deprot_mol in zip(exp_df.index, exp_df['prot_mol'], exp_df['deprot_mol']):\n",
    "    \n",
    "    if GetFormalCharge(prot_mol) > GetFormalCharge(deprot_mol):\n",
    "        continue \n",
    "    mol_idx.append(idx)"
   ]
  },
  {
   "cell_type": "code",
   "execution_count": 70,
   "id": "ee708413",
   "metadata": {},
   "outputs": [
    {
     "data": {
      "text/plain": [
       "0"
      ]
     },
     "execution_count": 70,
     "metadata": {},
     "output_type": "execute_result"
    }
   ],
   "source": [
    "len(mol_idx)"
   ]
  },
  {
   "cell_type": "code",
   "execution_count": 71,
   "id": "0e827790",
   "metadata": {},
   "outputs": [],
   "source": [
    "exp_df['acid_base_type'] = exp_df['exp_id'].apply(lambda x: lit_original.loc[int(x.split('mol')[1]), 'marvin_pKa_type'])"
   ]
  },
  {
   "cell_type": "code",
   "execution_count": 72,
   "id": "2fe85e4d",
   "metadata": {},
   "outputs": [],
   "source": [
    "from rdkit.Chem.MolStandardize import rdMolStandardize\n",
    "un = rdMolStandardize.Uncharger()\n",
    "\n",
    "from collections import defaultdict\n",
    "\n",
    "from molvs import standardize_smiles"
   ]
  },
  {
   "cell_type": "code",
   "execution_count": 73,
   "id": "1467b8ff",
   "metadata": {},
   "outputs": [],
   "source": [
    "acid_base_smarts = pd.read_csv('../data/pka_smarts/smarts_pattern.tsv', delimiter='\\t')"
   ]
  },
  {
   "cell_type": "code",
   "execution_count": 49,
   "id": "611f1e35",
   "metadata": {},
   "outputs": [],
   "source": [
    "mol_acid_base = defaultdict(list)\n",
    "for idx, center, prot_mol, deprot_mol in zip(range(exp_df.shape[0]), exp_df['center'], exp_df['prot_mol'], exp_df['deprot_mol']):\n",
    "    #p = Chem.MolFromSmiles(standardize_smiles(Chem.MolToSmiles(mol_with_atom_index(deprot_mol))))\n",
    "    #mol = Chem.MolFromSmiles(smi)\n",
    "    #p = deprot_mol\n",
    "    prot_mol = un.uncharge(prot_mol)\n",
    "    #mol = Chem.MolFromSmiles(Chem.MolToSmiles(mol_with_atom_index(mol)))\n",
    "    mol = Chem.AddHs(prot_mol)\n",
    "    for smart, a in zip(acid_base_smarts['    SMARTS'], acid_base_smarts['Acid_or_base']):\n",
    "        if mol.HasSubstructMatch(Chem.MolFromSmarts(smart)):\n",
    "            matches = sum(mol.GetSubstructMatches(Chem.MolFromSmarts(smart)), ())\n",
    "            #print(smart, matches)\n",
    "            center = int(center)\n",
    "            if center in matches:\n",
    "                #print('here')\n",
    "                if deprot_mol.GetAtomWithIdx(center).GetFormalCharge() == -1: \n",
    "                    if a == 'A':\n",
    "                        mol_acid_base[idx].append([smart, a])\n",
    "                        break\n",
    "                elif deprot_mol.GetAtomWithIdx(center).GetFormalCharge() == 0:\n",
    "                    if a == 'B':\n",
    "                        mol_acid_base[idx].append([smart, a])\n",
    "                        break\n",
    "                        "
   ]
  },
  {
   "cell_type": "code",
   "execution_count": 50,
   "id": "52fe7114",
   "metadata": {},
   "outputs": [
    {
     "data": {
      "text/plain": [
       "121"
      ]
     },
     "execution_count": 50,
     "metadata": {},
     "output_type": "execute_result"
    }
   ],
   "source": [
    "len(mol_acid_base)"
   ]
  },
  {
   "cell_type": "code",
   "execution_count": 74,
   "id": "6545b81e",
   "metadata": {},
   "outputs": [],
   "source": [
    "c = 0 \n",
    "use_i = []\n",
    "for i in list(mol_acid_base.keys()):\n",
    "    if exp_df.loc[i, 'acid_base_type'] == 'acidic' and mol_acid_base[i][0][1] == 'A':\n",
    "        c += 1\n",
    "        use_i.append(i)\n",
    "    elif exp_df.loc[i, 'acid_base_type'] == 'basic' and mol_acid_base[i][0][1] == 'B':\n",
    "        c += 1\n",
    "        use_i.append(i)\n",
    "        "
   ]
  },
  {
   "cell_type": "code",
   "execution_count": 75,
   "id": "56a035d7",
   "metadata": {},
   "outputs": [],
   "source": [
    "not_use_i = set(list(mol_acid_base.keys())) - set(use_i)"
   ]
  },
  {
   "cell_type": "code",
   "execution_count": 76,
   "id": "74e44766",
   "metadata": {},
   "outputs": [
    {
     "data": {
      "text/plain": [
       "0"
      ]
     },
     "execution_count": 76,
     "metadata": {},
     "output_type": "execute_result"
    }
   ],
   "source": [
    "len(not_use_i)"
   ]
  },
  {
   "cell_type": "code",
   "execution_count": 77,
   "id": "325350bb",
   "metadata": {},
   "outputs": [],
   "source": [
    "not_use_i1 = set(exp_df.index) - set(list(mol_acid_base.keys()))"
   ]
  },
  {
   "cell_type": "code",
   "execution_count": 78,
   "id": "cc9b4f1a",
   "metadata": {},
   "outputs": [
    {
     "data": {
      "text/plain": [
       "2"
      ]
     },
     "execution_count": 78,
     "metadata": {},
     "output_type": "execute_result"
    }
   ],
   "source": [
    "len(not_use_i1)"
   ]
  },
  {
   "cell_type": "code",
   "execution_count": 79,
   "id": "f92e97d3",
   "metadata": {},
   "outputs": [],
   "source": [
    "exp_df['acid_base_string'] = str"
   ]
  },
  {
   "cell_type": "code",
   "execution_count": 80,
   "id": "d5306740",
   "metadata": {},
   "outputs": [],
   "source": [
    "exp_df.loc[list(mol_acid_base.keys()), 'acid_base_string'] = [i[0][1] for i in list(mol_acid_base.values())]"
   ]
  },
  {
   "cell_type": "code",
   "execution_count": 81,
   "id": "08fd5c02",
   "metadata": {},
   "outputs": [
    {
     "name": "stdout",
     "output_type": "stream",
     "text": [
      "97\n",
      "90\n"
     ]
    }
   ],
   "source": [
    "res = []\n",
    "#check2 = []\n",
    "for i in not_use_i1:\n",
    "    print(i)\n",
    "    prot_mol = exp_df.loc[i, 'prot_mol']\n",
    "    deprot_mol = exp_df.loc[i, 'deprot_mol']\n",
    "    prot_charge = exp_df.loc[i, 'prot_charge']\n",
    "    deprot_charge = exp_df.loc[i, 'deprot_charge']\n",
    "    center = int(exp_df.loc[i, 'center'])\n",
    "\n",
    "    if prot_mol.GetAtomWithIdx(center).GetFormalCharge() == 0 and deprot_mol.GetAtomWithIdx(center).GetFormalCharge() == -1: \n",
    "        #if prot_charge != 0 or deprot_charge != -1:\n",
    "        #    check2.append(i)\n",
    "        res.append('A')\n",
    "    \n",
    "    if prot_mol.GetAtomWithIdx(center).GetFormalCharge() == 1 and deprot_mol.GetAtomWithIdx(center).GetFormalCharge() == 0: \n",
    "        #if prot_charge != 1 or deprot_charge != 0:\n",
    "        #    check2.append(i)\n",
    "        res.append('B')"
   ]
  },
  {
   "cell_type": "code",
   "execution_count": 84,
   "id": "c73ffaeb",
   "metadata": {},
   "outputs": [],
   "source": [
    "exp_df.loc[list(not_use_i1), 'acid_base_string'] = res"
   ]
  },
  {
   "cell_type": "code",
   "execution_count": 85,
   "id": "956dcd87",
   "metadata": {},
   "outputs": [
    {
     "name": "stdout",
     "output_type": "stream",
     "text": [
      "B\n",
      "B\n",
      "B\n",
      "A\n",
      "B\n",
      "B\n",
      "B\n",
      "A\n",
      "B\n",
      "B\n",
      "A\n",
      "A\n",
      "B\n",
      "B\n",
      "B\n",
      "A\n",
      "B\n",
      "B\n",
      "B\n",
      "A\n",
      "B\n",
      "B\n",
      "B\n",
      "B\n",
      "A\n",
      "B\n",
      "A\n",
      "A\n",
      "A\n",
      "A\n",
      "B\n",
      "B\n",
      "B\n",
      "B\n",
      "B\n",
      "B\n",
      "B\n",
      "B\n",
      "B\n",
      "B\n",
      "B\n",
      "B\n",
      "B\n",
      "B\n",
      "B\n",
      "B\n",
      "B\n",
      "A\n",
      "B\n",
      "B\n",
      "B\n",
      "B\n",
      "B\n",
      "B\n",
      "A\n",
      "B\n",
      "A\n",
      "A\n",
      "A\n",
      "B\n",
      "B\n",
      "B\n",
      "B\n",
      "B\n",
      "B\n",
      "B\n",
      "B\n",
      "B\n",
      "B\n",
      "B\n",
      "B\n",
      "B\n",
      "B\n",
      "B\n",
      "B\n",
      "B\n",
      "B\n",
      "B\n",
      "B\n",
      "B\n",
      "A\n",
      "A\n",
      "B\n",
      "B\n",
      "B\n",
      "B\n",
      "B\n",
      "B\n",
      "A\n",
      "B\n",
      "A\n",
      "B\n",
      "B\n",
      "B\n",
      "B\n",
      "B\n",
      "B\n",
      "A\n",
      "B\n",
      "B\n",
      "B\n",
      "B\n",
      "A\n",
      "A\n",
      "A\n",
      "A\n",
      "A\n",
      "A\n",
      "A\n",
      "B\n",
      "B\n",
      "B\n",
      "B\n",
      "B\n",
      "B\n",
      "B\n",
      "B\n",
      "B\n",
      "B\n",
      "B\n",
      "B\n",
      "B\n",
      "B\n"
     ]
    }
   ],
   "source": [
    "ROMol = []\n",
    "#acid_base_num = []\n",
    "for i in exp_df.index:\n",
    "    #print(i)\n",
    "    acid_base = exp_df.loc[i, 'acid_base_string']\n",
    "    print(acid_base)\n",
    "    #acid_base_string.append(acid_base)\n",
    "    if acid_base == 'A':\n",
    "        ROMol.append(exp_df.loc[i, 'prot_mol'])\n",
    "    elif acid_base == 'B':\n",
    "        ROMol.append(exp_df.loc[i, 'deprot_mol'])"
   ]
  },
  {
   "cell_type": "code",
   "execution_count": 86,
   "id": "98e90fbe",
   "metadata": {},
   "outputs": [
    {
     "data": {
      "text/plain": [
       "123"
      ]
     },
     "execution_count": 86,
     "metadata": {},
     "output_type": "execute_result"
    }
   ],
   "source": [
    "len(ROMol)"
   ]
  },
  {
   "cell_type": "code",
   "execution_count": 87,
   "id": "c8866c10",
   "metadata": {},
   "outputs": [],
   "source": [
    "exp_df['ROMol'] = ROMol"
   ]
  },
  {
   "cell_type": "code",
   "execution_count": 88,
   "id": "db581c52",
   "metadata": {},
   "outputs": [],
   "source": [
    "from rdkit.Chem.Descriptors import ExactMolWt, HeavyAtomCount, NumHAcceptors, NumHDonors, MolLogP, NumRotatableBonds"
   ]
  },
  {
   "cell_type": "code",
   "execution_count": 89,
   "id": "d9ce98c6",
   "metadata": {},
   "outputs": [
    {
     "name": "stderr",
     "output_type": "stream",
     "text": [
      "100%|██████████| 123/123 [00:00<00:00, 1953.71it/s]\n"
     ]
    }
   ],
   "source": [
    "mw, hac, nhd, nha, logp, nrb = [], [], [], [], [], []\n",
    "for mol in tqdm(exp_df['ROMol']):\n",
    "    mw.append(ExactMolWt(mol))\n",
    "    hac.append(HeavyAtomCount(mol))\n",
    "    nhd.append(NumHDonors(mol))\n",
    "    nha.append(NumHAcceptors(mol))\n",
    "    logp.append(MolLogP(mol))\n",
    "    nrb.append(NumRotatableBonds(mol))"
   ]
  },
  {
   "cell_type": "code",
   "execution_count": 90,
   "id": "d763238a",
   "metadata": {},
   "outputs": [
    {
     "data": {
      "text/html": [
       "<div>\n",
       "<style scoped>\n",
       "    .dataframe tbody tr th:only-of-type {\n",
       "        vertical-align: middle;\n",
       "    }\n",
       "\n",
       "    .dataframe tbody tr th {\n",
       "        vertical-align: top;\n",
       "    }\n",
       "\n",
       "    .dataframe thead th {\n",
       "        text-align: right;\n",
       "    }\n",
       "</style>\n",
       "<table border=\"1\" class=\"dataframe\">\n",
       "  <thead>\n",
       "    <tr style=\"text-align: right;\">\n",
       "      <th></th>\n",
       "      <th>exp_id</th>\n",
       "      <th>pka</th>\n",
       "      <th>center</th>\n",
       "      <th>prot_smiles</th>\n",
       "      <th>deprot_smiles</th>\n",
       "      <th>prot_charge</th>\n",
       "      <th>deprot_charge</th>\n",
       "      <th>prot_mol</th>\n",
       "      <th>deprot_mol</th>\n",
       "      <th>acid_base_type</th>\n",
       "      <th>ROMol</th>\n",
       "    </tr>\n",
       "    <tr>\n",
       "      <th>acid_base_string</th>\n",
       "      <th></th>\n",
       "      <th></th>\n",
       "      <th></th>\n",
       "      <th></th>\n",
       "      <th></th>\n",
       "      <th></th>\n",
       "      <th></th>\n",
       "      <th></th>\n",
       "      <th></th>\n",
       "      <th></th>\n",
       "      <th></th>\n",
       "    </tr>\n",
       "  </thead>\n",
       "  <tbody>\n",
       "    <tr>\n",
       "      <th>A</th>\n",
       "      <td>28</td>\n",
       "      <td>28</td>\n",
       "      <td>28</td>\n",
       "      <td>28</td>\n",
       "      <td>28</td>\n",
       "      <td>28</td>\n",
       "      <td>28</td>\n",
       "      <td>28</td>\n",
       "      <td>28</td>\n",
       "      <td>28</td>\n",
       "      <td>28</td>\n",
       "    </tr>\n",
       "    <tr>\n",
       "      <th>B</th>\n",
       "      <td>95</td>\n",
       "      <td>95</td>\n",
       "      <td>95</td>\n",
       "      <td>95</td>\n",
       "      <td>95</td>\n",
       "      <td>95</td>\n",
       "      <td>95</td>\n",
       "      <td>95</td>\n",
       "      <td>95</td>\n",
       "      <td>95</td>\n",
       "      <td>95</td>\n",
       "    </tr>\n",
       "  </tbody>\n",
       "</table>\n",
       "</div>"
      ],
      "text/plain": [
       "                  exp_id  pka  center  prot_smiles  deprot_smiles  \\\n",
       "acid_base_string                                                    \n",
       "A                     28   28      28           28             28   \n",
       "B                     95   95      95           95             95   \n",
       "\n",
       "                  prot_charge  deprot_charge  prot_mol  deprot_mol  \\\n",
       "acid_base_string                                                     \n",
       "A                          28             28        28          28   \n",
       "B                          95             95        95          95   \n",
       "\n",
       "                  acid_base_type  ROMol  \n",
       "acid_base_string                         \n",
       "A                             28     28  \n",
       "B                             95     95  "
      ]
     },
     "execution_count": 90,
     "metadata": {},
     "output_type": "execute_result"
    }
   ],
   "source": [
    "exp_df.groupby('acid_base_string').count()"
   ]
  },
  {
   "cell_type": "code",
   "execution_count": 91,
   "id": "5ff9ae79",
   "metadata": {},
   "outputs": [
    {
     "data": {
      "text/html": [
       "<div>\n",
       "<style scoped>\n",
       "    .dataframe tbody tr th:only-of-type {\n",
       "        vertical-align: middle;\n",
       "    }\n",
       "\n",
       "    .dataframe tbody tr th {\n",
       "        vertical-align: top;\n",
       "    }\n",
       "\n",
       "    .dataframe thead th {\n",
       "        text-align: right;\n",
       "    }\n",
       "</style>\n",
       "<table border=\"1\" class=\"dataframe\">\n",
       "  <thead>\n",
       "    <tr style=\"text-align: right;\">\n",
       "      <th></th>\n",
       "      <th>exp_id</th>\n",
       "      <th>pka</th>\n",
       "      <th>center</th>\n",
       "      <th>prot_smiles</th>\n",
       "      <th>deprot_smiles</th>\n",
       "      <th>prot_charge</th>\n",
       "      <th>deprot_charge</th>\n",
       "      <th>prot_mol</th>\n",
       "      <th>deprot_mol</th>\n",
       "      <th>acid_base_string</th>\n",
       "      <th>ROMol</th>\n",
       "    </tr>\n",
       "    <tr>\n",
       "      <th>acid_base_type</th>\n",
       "      <th></th>\n",
       "      <th></th>\n",
       "      <th></th>\n",
       "      <th></th>\n",
       "      <th></th>\n",
       "      <th></th>\n",
       "      <th></th>\n",
       "      <th></th>\n",
       "      <th></th>\n",
       "      <th></th>\n",
       "      <th></th>\n",
       "    </tr>\n",
       "  </thead>\n",
       "  <tbody>\n",
       "    <tr>\n",
       "      <th>acidic</th>\n",
       "      <td>26</td>\n",
       "      <td>26</td>\n",
       "      <td>26</td>\n",
       "      <td>26</td>\n",
       "      <td>26</td>\n",
       "      <td>26</td>\n",
       "      <td>26</td>\n",
       "      <td>26</td>\n",
       "      <td>26</td>\n",
       "      <td>26</td>\n",
       "      <td>26</td>\n",
       "    </tr>\n",
       "    <tr>\n",
       "      <th>basic</th>\n",
       "      <td>97</td>\n",
       "      <td>97</td>\n",
       "      <td>97</td>\n",
       "      <td>97</td>\n",
       "      <td>97</td>\n",
       "      <td>97</td>\n",
       "      <td>97</td>\n",
       "      <td>97</td>\n",
       "      <td>97</td>\n",
       "      <td>97</td>\n",
       "      <td>97</td>\n",
       "    </tr>\n",
       "  </tbody>\n",
       "</table>\n",
       "</div>"
      ],
      "text/plain": [
       "                exp_id  pka  center  prot_smiles  deprot_smiles  prot_charge  \\\n",
       "acid_base_type                                                                 \n",
       "acidic              26   26      26           26             26           26   \n",
       "basic               97   97      97           97             97           97   \n",
       "\n",
       "                deprot_charge  prot_mol  deprot_mol  acid_base_string  ROMol  \n",
       "acid_base_type                                                                \n",
       "acidic                     26        26          26                26     26  \n",
       "basic                      97        97          97                97     97  "
      ]
     },
     "execution_count": 91,
     "metadata": {},
     "output_type": "execute_result"
    }
   ],
   "source": [
    "exp_df.groupby('acid_base_type').count()"
   ]
  },
  {
   "cell_type": "code",
   "execution_count": 92,
   "id": "879e83ea",
   "metadata": {},
   "outputs": [],
   "source": [
    "exp_df['SMILES'] = exp_df['ROMol'].apply(lambda x: x.GetProp('mol-smiles'))"
   ]
  },
  {
   "cell_type": "code",
   "execution_count": 93,
   "id": "12548fd5",
   "metadata": {},
   "outputs": [
    {
     "data": {
      "text/plain": [
       "123"
      ]
     },
     "execution_count": 93,
     "metadata": {},
     "output_type": "execute_result"
    }
   ],
   "source": [
    "len(set(exp_df['SMILES']))"
   ]
  },
  {
   "cell_type": "code",
   "execution_count": 94,
   "id": "b45b0442",
   "metadata": {},
   "outputs": [],
   "source": [
    "torch.save(exp_df, '../data/liter/literature_processed.pt')"
   ]
  },
  {
   "cell_type": "code",
   "execution_count": null,
   "id": "bb43a1f0",
   "metadata": {},
   "outputs": [],
   "source": []
  }
 ],
 "metadata": {
  "kernelspec": {
   "display_name": "Python 3 (ipykernel)",
   "language": "python",
   "name": "python3"
  },
  "language_info": {
   "codemirror_mode": {
    "name": "ipython",
    "version": 3
   },
   "file_extension": ".py",
   "mimetype": "text/x-python",
   "name": "python",
   "nbconvert_exporter": "python",
   "pygments_lexer": "ipython3",
   "version": "3.9.16"
  }
 },
 "nbformat": 4,
 "nbformat_minor": 5
}
