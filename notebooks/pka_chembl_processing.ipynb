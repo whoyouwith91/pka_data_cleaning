{
 "cells": [
  {
   "cell_type": "code",
   "execution_count": 1,
   "metadata": {},
   "outputs": [],
   "source": [
    "import pandas as pd\n",
    "import pickle \n",
    "from tqdm import tqdm\n",
    "import torch"
   ]
  },
  {
   "cell_type": "code",
   "execution_count": null,
   "metadata": {},
   "outputs": [],
   "source": []
  },
  {
   "cell_type": "code",
   "execution_count": 5,
   "metadata": {},
   "outputs": [],
   "source": [
    "with open('../data/chembl/05_chembl_dataset_pyg.pkl', 'rb') as f:\n",
    "    chembl = pickle.load(f)"
   ]
  },
  {
   "cell_type": "code",
   "execution_count": 6,
   "metadata": {},
   "outputs": [
    {
     "data": {
      "text/plain": [
       "714906"
      ]
     },
     "execution_count": 6,
     "metadata": {},
     "output_type": "execute_result"
    }
   ],
   "source": [
    "len(chembl)"
   ]
  },
  {
   "cell_type": "code",
   "execution_count": 8,
   "metadata": {},
   "outputs": [
    {
     "data": {
      "text/plain": [
       "PairData(edge_index_p=[2, 82], edge_index_d=[2, 82], x_p=[36, 71], x_d=[36, 71], edge_attr_p=[82, 6], edge_attr_d=[82, 6], charge_prot=2, charge_deprot=1, num_nodes=36, reference_value=12.204999923706055, internal_id=[2], smiles_prop='Nc1cc[n+](Cc2cccc(-c3cccc(C[n+]4ccc(N)c5ccccc54)c3)c2)c2ccccc12', smiles_deprop='[NH-]c1cc[n+](Cc2cccc(-c3cccc(C[n+]4ccc(N)c5ccccc54)c3)c2)c2ccccc12', chembl_id='CHEMBL6354', reaction_center='20')"
      ]
     },
     "execution_count": 8,
     "metadata": {},
     "output_type": "execute_result"
    }
   ],
   "source": [
    "chembl[0]"
   ]
  },
  {
   "cell_type": "code",
   "execution_count": 50,
   "metadata": {},
   "outputs": [
    {
     "name": "stderr",
     "output_type": "stream",
     "text": [
      "100%|██████████| 714906/714906 [00:10<00:00, 65431.38it/s]\n"
     ]
    }
   ],
   "source": [
    "prot_smiles = []\n",
    "deprot_smiles = []\n",
    "prot_charges = []\n",
    "deprot_charges = []\n",
    "pka = []\n",
    "chembl_ids = []\n",
    "centers = []\n",
    "\n",
    "for data in tqdm(chembl):\n",
    "    prot_smiles.append(data.smiles_prop)\n",
    "    deprot_smiles.append(data.smiles_deprop)\n",
    "    prot_charges.append(data.charge_prot)\n",
    "    deprot_charges.append(data.charge_deprot)\n",
    "    pka.append(data.reference_value.item())\n",
    "    chembl_ids.append(data.chembl_id)\n",
    "    centers.append(data.reaction_center)\n"
   ]
  },
  {
   "cell_type": "code",
   "execution_count": 51,
   "metadata": {},
   "outputs": [
    {
     "data": {
      "text/plain": [
       "714906"
      ]
     },
     "execution_count": 51,
     "metadata": {},
     "output_type": "execute_result"
    }
   ],
   "source": [
    "len(chembl_ids)"
   ]
  },
  {
   "cell_type": "code",
   "execution_count": 52,
   "metadata": {},
   "outputs": [],
   "source": [
    "chembl_df = pd.DataFrame({'chembl_id': chembl_ids,\n",
    "                          'pka': pka,\n",
    "                          'center': centers,\n",
    "                          'prot_smiles': prot_smiles,\n",
    "                          'deprot_smiles': deprot_smiles,\n",
    "                          'prot_charge': prot_charges,\n",
    "                          'deprot_charge': deprot_charges})"
   ]
  },
  {
   "cell_type": "code",
   "execution_count": 53,
   "metadata": {},
   "outputs": [
    {
     "data": {
      "text/html": [
       "<div>\n",
       "<style scoped>\n",
       "    .dataframe tbody tr th:only-of-type {\n",
       "        vertical-align: middle;\n",
       "    }\n",
       "\n",
       "    .dataframe tbody tr th {\n",
       "        vertical-align: top;\n",
       "    }\n",
       "\n",
       "    .dataframe thead th {\n",
       "        text-align: right;\n",
       "    }\n",
       "</style>\n",
       "<table border=\"1\" class=\"dataframe\">\n",
       "  <thead>\n",
       "    <tr style=\"text-align: right;\">\n",
       "      <th></th>\n",
       "      <th>chembl_id</th>\n",
       "      <th>pka</th>\n",
       "      <th>center</th>\n",
       "      <th>prot_smiles</th>\n",
       "      <th>deprot_smiles</th>\n",
       "      <th>prot_charge</th>\n",
       "      <th>deprot_charge</th>\n",
       "    </tr>\n",
       "  </thead>\n",
       "  <tbody>\n",
       "    <tr>\n",
       "      <th>0</th>\n",
       "      <td>CHEMBL6354</td>\n",
       "      <td>12.205</td>\n",
       "      <td>20</td>\n",
       "      <td>Nc1cc[n+](Cc2cccc(-c3cccc(C[n+]4ccc(N)c5ccccc5...</td>\n",
       "      <td>[NH-]c1cc[n+](Cc2cccc(-c3cccc(C[n+]4ccc(N)c5cc...</td>\n",
       "      <td>2</td>\n",
       "      <td>1</td>\n",
       "    </tr>\n",
       "    <tr>\n",
       "      <th>1</th>\n",
       "      <td>CHEMBL6354</td>\n",
       "      <td>12.807</td>\n",
       "      <td>21</td>\n",
       "      <td>[NH-]c1cc[n+](Cc2cccc(-c3cccc(C[n+]4ccc(N)c5cc...</td>\n",
       "      <td>[NH-]c1cc[n+](Cc2cccc(-c3cccc(C[n+]4ccc([NH-])...</td>\n",
       "      <td>1</td>\n",
       "      <td>0</td>\n",
       "    </tr>\n",
       "    <tr>\n",
       "      <th>2</th>\n",
       "      <td>CHEMBL429017</td>\n",
       "      <td>12.205</td>\n",
       "      <td>16</td>\n",
       "      <td>Nc1cc[n+](Cc2ccc(CCc3ccc(C[n+]4ccc(N)c5ccccc54...</td>\n",
       "      <td>[NH-]c1cc[n+](Cc2ccc(CCc3ccc(C[n+]4ccc(N)c5ccc...</td>\n",
       "      <td>2</td>\n",
       "      <td>1</td>\n",
       "    </tr>\n",
       "    <tr>\n",
       "      <th>3</th>\n",
       "      <td>CHEMBL429017</td>\n",
       "      <td>12.807</td>\n",
       "      <td>17</td>\n",
       "      <td>[NH-]c1cc[n+](Cc2ccc(CCc3ccc(C[n+]4ccc(N)c5ccc...</td>\n",
       "      <td>[NH-]c1cc[n+](Cc2ccc(CCc3ccc(C[n+]4ccc([NH-])c...</td>\n",
       "      <td>1</td>\n",
       "      <td>0</td>\n",
       "    </tr>\n",
       "    <tr>\n",
       "      <th>4</th>\n",
       "      <td>CHEMBL6361</td>\n",
       "      <td>12.205</td>\n",
       "      <td>20</td>\n",
       "      <td>Nc1cc[n+](Cc2ccc(/C=C\\c3ccc(C[n+]4ccc(N)c5cccc...</td>\n",
       "      <td>[NH-]c1cc[n+](Cc2ccc(/C=C\\c3ccc(C[n+]4ccc(N)c5...</td>\n",
       "      <td>2</td>\n",
       "      <td>1</td>\n",
       "    </tr>\n",
       "  </tbody>\n",
       "</table>\n",
       "</div>"
      ],
      "text/plain": [
       "      chembl_id     pka center  \\\n",
       "0    CHEMBL6354  12.205     20   \n",
       "1    CHEMBL6354  12.807     21   \n",
       "2  CHEMBL429017  12.205     16   \n",
       "3  CHEMBL429017  12.807     17   \n",
       "4    CHEMBL6361  12.205     20   \n",
       "\n",
       "                                         prot_smiles  \\\n",
       "0  Nc1cc[n+](Cc2cccc(-c3cccc(C[n+]4ccc(N)c5ccccc5...   \n",
       "1  [NH-]c1cc[n+](Cc2cccc(-c3cccc(C[n+]4ccc(N)c5cc...   \n",
       "2  Nc1cc[n+](Cc2ccc(CCc3ccc(C[n+]4ccc(N)c5ccccc54...   \n",
       "3  [NH-]c1cc[n+](Cc2ccc(CCc3ccc(C[n+]4ccc(N)c5ccc...   \n",
       "4  Nc1cc[n+](Cc2ccc(/C=C\\c3ccc(C[n+]4ccc(N)c5cccc...   \n",
       "\n",
       "                                       deprot_smiles  prot_charge  \\\n",
       "0  [NH-]c1cc[n+](Cc2cccc(-c3cccc(C[n+]4ccc(N)c5cc...            2   \n",
       "1  [NH-]c1cc[n+](Cc2cccc(-c3cccc(C[n+]4ccc([NH-])...            1   \n",
       "2  [NH-]c1cc[n+](Cc2ccc(CCc3ccc(C[n+]4ccc(N)c5ccc...            2   \n",
       "3  [NH-]c1cc[n+](Cc2ccc(CCc3ccc(C[n+]4ccc([NH-])c...            1   \n",
       "4  [NH-]c1cc[n+](Cc2ccc(/C=C\\c3ccc(C[n+]4ccc(N)c5...            2   \n",
       "\n",
       "   deprot_charge  \n",
       "0              1  \n",
       "1              0  \n",
       "2              1  \n",
       "3              0  \n",
       "4              1  "
      ]
     },
     "execution_count": 53,
     "metadata": {},
     "output_type": "execute_result"
    }
   ],
   "source": [
    "chembl_df.head()"
   ]
  },
  {
   "cell_type": "code",
   "execution_count": 5,
   "metadata": {},
   "outputs": [],
   "source": [
    "with open('../data/chembl/04_chembl_dataset_pyg.pkl', 'rb') as f:\n",
    "    raw_chembl = pickle.load(f)"
   ]
  },
  {
   "cell_type": "code",
   "execution_count": 45,
   "metadata": {},
   "outputs": [
    {
     "name": "stderr",
     "output_type": "stream",
     "text": [
      "100%|██████████| 714906/714906 [00:06<00:00, 112830.07it/s]\n"
     ]
    }
   ],
   "source": [
    "unstack_mols = []\n",
    "seen = set()\n",
    "c = 0\n",
    "p = []\n",
    "for id_ in tqdm(chembl_df['chembl_id']):\n",
    "    if id_ not in seen:\n",
    "        seen.add(id_)\n",
    "        mols = raw_chembl[id_]['mols']\n",
    "        c += len(mols)\n",
    "        for mol in mols:\n",
    "            unstack_mols.append([mol[0], mol[1]])\n",
    "            p.append(mol[0].GetProp('pKa_number'))"
   ]
  },
  {
   "cell_type": "code",
   "execution_count": 47,
   "metadata": {},
   "outputs": [],
   "source": [
    "chembl_df['prot_mol'] = [i[0] for i in unstack_mols]"
   ]
  },
  {
   "cell_type": "code",
   "execution_count": 48,
   "metadata": {},
   "outputs": [],
   "source": [
    "chembl_df['deprot_mol'] = [i[1] for i in unstack_mols]"
   ]
  },
  {
   "cell_type": "code",
   "execution_count": 28,
   "metadata": {},
   "outputs": [],
   "source": [
    "chembl_df['acid_basic'] = p "
   ]
  },
  {
   "cell_type": "code",
   "execution_count": 33,
   "metadata": {},
   "outputs": [],
   "source": [
    "torch.save(chembl_df, '/scratch/dz1061/pkasolver-data/chembl_processed.pt')"
   ]
  },
  {
   "cell_type": "code",
   "execution_count": 5,
   "metadata": {},
   "outputs": [
    {
     "data": {
      "text/plain": [
       "(714906, 10)"
      ]
     },
     "execution_count": 5,
     "metadata": {},
     "output_type": "execute_result"
    }
   ],
   "source": [
    "chembl_df.shape"
   ]
  },
  {
   "cell_type": "markdown",
   "metadata": {},
   "source": [
    "## End."
   ]
  }
 ],
 "metadata": {
  "kernelspec": {
   "display_name": "Python 3 (ipykernel)",
   "language": "python",
   "name": "python3"
  },
  "language_info": {
   "codemirror_mode": {
    "name": "ipython",
    "version": 3
   },
   "file_extension": ".py",
   "mimetype": "text/x-python",
   "name": "python",
   "nbconvert_exporter": "python",
   "pygments_lexer": "ipython3",
   "version": "3.8.17"
  }
 },
 "nbformat": 4,
 "nbformat_minor": 4
}
